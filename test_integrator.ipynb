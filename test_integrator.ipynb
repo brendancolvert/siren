{
 "cells": [
  {
   "cell_type": "code",
   "execution_count": 1,
   "metadata": {},
   "outputs": [],
   "source": [
    "import numpy as np\n",
    "import matplotlib.pyplot as plt\n",
    "import torch\n",
    "\n",
    "from model.integrator import Integrator"
   ]
  },
  {
   "cell_type": "code",
   "execution_count": 5,
   "metadata": {},
   "outputs": [
    {
     "name": "stdout",
     "output_type": "stream",
     "text": [
      "tensor([9.8730])\n",
      "tensor([9.8732])\n",
      "tensor([9.8664])\n",
      "tensor([9.8720])\n",
      "tensor([9.8701])\n",
      "tensor([9.8664])\n",
      "tensor([9.8635])\n",
      "tensor([9.8673])\n",
      "tensor([9.8658])\n",
      "tensor([9.8698])\n"
     ]
    }
   ],
   "source": [
    "# L = np.empty((1,2))\n",
    "L = np.array(((0,np.pi),(0,np.pi)))\n",
    "\n",
    "# func = lambda X: torch.sin(X[:,0])*torch.sin(X[:,1])/4\n",
    "func = lambda X: (torch.sin(X)**2).sum(axis=1)\n",
    "\n",
    "# N = 64\n",
    "# x,y = np.meshgrid(np.linspace(0,np.pi,N),np.linspace(0,np.pi,N))\n",
    "# X = np.concatenate((x.reshape((N**2,1)),y.reshape((N**2,1))),axis=1)\n",
    "# F = func(X)\n",
    "# f = F.reshape((N,N))\n",
    "# fig, axes = plt.subplots(1,1, figsize=(5,5))\n",
    "# axes.imshow(f,vmin=0,vmax=.25)\n",
    "\n",
    "igr = Integrator(Nd=2,L=L,Np=1024)\n",
    "\n",
    "# print(igr.integrate(func,reltol=1e-3,abstol=1e-12,maxiter=1e5))\n",
    "\n",
    "for n in range(10):\n",
    "    print(igr.integrate(func,reltol=1e-6,abstol=1e-12,maxiter=1e3).cpu())\n"
   ]
  },
  {
   "cell_type": "code",
   "execution_count": null,
   "metadata": {},
   "outputs": [],
   "source": []
  }
 ],
 "metadata": {
  "kernelspec": {
   "display_name": "Python 3",
   "language": "python",
   "name": "python3"
  },
  "language_info": {
   "codemirror_mode": {
    "name": "ipython",
    "version": 3
   },
   "file_extension": ".py",
   "mimetype": "text/x-python",
   "name": "python",
   "nbconvert_exporter": "python",
   "pygments_lexer": "ipython3",
   "version": "3.8.5"
  }
 },
 "nbformat": 4,
 "nbformat_minor": 4
}
